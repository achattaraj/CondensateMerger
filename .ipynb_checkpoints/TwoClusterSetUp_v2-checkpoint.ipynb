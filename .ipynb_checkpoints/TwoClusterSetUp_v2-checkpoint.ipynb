{
 "cells": [
  {
   "cell_type": "code",
   "execution_count": 2,
   "id": "42735d79",
   "metadata": {},
   "outputs": [
    {
     "name": "stdout",
     "output_type": "stream",
     "text": [
      "Radius of Gyration of the Cluster : 129.5775909423828 A\n",
      "Copied the cluster and wrote the data in  ./TwoCluster_setup/IC_twoCluster_S15N03.DATA\n"
     ]
    }
   ],
   "source": [
    "from CopyCluster import * \n",
    "\n",
    "file = './TwoCluster_setup/final_state_N200_S15N03.DATA'\n",
    "\n",
    "lines = readFile(file)\n",
    "mass_block = getBlock(lines, 'Masses', 'Pair Coeffs', skipName=False)\n",
    "coor_block = getBlock(lines, 'Atoms', 'Velocities')\n",
    "bond_block = getBlock(lines, 'Bonds', 'Angles')\n",
    "angle_block = getBlock(lines, 'Angles')\n",
    "\n",
    "cB, centers, Rg = copyCoorBlock(coor_block)\n",
    "\n",
    "bB = copyBondBlock(bond_block, coor_block)\n",
    "\n",
    "aB = copyAngleBlock(angle_block, coor_block)\n",
    "\n",
    "outfile = './TwoCluster_setup/IC_twoCluster_S15N03.DATA'\n",
    "\n",
    "writeFile(outfile, mass_block, cB, bB, aB, centers, Rg)"
   ]
  },
  {
   "cell_type": "markdown",
   "id": "80c0e3a5",
   "metadata": {},
   "source": [
    "### OVITO rendering of \"final_state_N200_S15N03.DATA\". \n",
    "\n",
    "<img src=\"./TwoCluster_setup/N200_S15N03.png\" width=\"300\" align=\"center\">\n"
   ]
  },
  {
   "cell_type": "markdown",
   "id": "11435cb3",
   "metadata": {},
   "source": [
    "### OVITO rendering of \"IC_twoCluster_S15N03.DATA\"\n",
    "\n",
    "<img src=\"./TwoCluster_setup/TwoCluster_InitialState.png\" width=\"350\" align=\"center\">"
   ]
  },
  {
   "cell_type": "code",
   "execution_count": null,
   "id": "9af75da5",
   "metadata": {},
   "outputs": [],
   "source": []
  }
 ],
 "metadata": {
  "kernelspec": {
   "display_name": "Python 3 (ipykernel)",
   "language": "python",
   "name": "python3"
  },
  "language_info": {
   "codemirror_mode": {
    "name": "ipython",
    "version": 3
   },
   "file_extension": ".py",
   "mimetype": "text/x-python",
   "name": "python",
   "nbconvert_exporter": "python",
   "pygments_lexer": "ipython3",
   "version": "3.10.9"
  }
 },
 "nbformat": 4,
 "nbformat_minor": 5
}
